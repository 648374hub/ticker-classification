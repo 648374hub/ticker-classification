{
 "cells": [
  {
   "cell_type": "code",
   "execution_count": 38,
   "metadata": {},
   "outputs": [],
   "source": [
    "import os\n",
    "import cv2\n",
    "from PIL import Image, ImageOps, ImageFilter\n",
    "import numpy as np\n",
    "from IPython.display import display\n",
    "import random\n",
    "import math\n",
    "from sklearn.metrics import confusion_matrix, classification_report, ConfusionMatrixDisplay\n",
    "from sklearn.model_selection import train_test_split\n",
    "import matplotlib.pyplot as plt\n",
    "from functools import partial\n",
    "from collections import defaultdict\n",
    "from datetime import datetime, timedelta, timezone\n",
    "import tensorflow as tf\n",
    "from tensorflow.keras.utils import Sequence\n",
    "from tensorflow.keras.preprocessing.image import load_img, img_to_array"
   ]
  },
  {
   "cell_type": "code",
   "execution_count": 2,
   "metadata": {},
   "outputs": [
    {
     "name": "stdout",
     "output_type": "stream",
     "text": [
      "1003\n"
     ]
    }
   ],
   "source": [
    "base_path = \"/Users/nitesh/Downloads/test_images/\"\n",
    "image_paths = os.listdir(base_path)\n",
    "print(len(image_paths))"
   ]
  },
  {
   "cell_type": "code",
   "execution_count": 3,
   "metadata": {},
   "outputs": [
    {
     "name": "stdout",
     "output_type": "stream",
     "text": [
      "74.17746759720838 25.822532402791627\n"
     ]
    }
   ],
   "source": [
    "label_map = {1: \"ticker\", 0: \"no_ticker\"}\n",
    "class2lable_map = {v: k for k, v in label_map.items()}\n",
    "\n",
    "labels = []\n",
    "pos = 0\n",
    "neg = 0\n",
    "total = len(image_paths)\n",
    "for _path in image_paths:\n",
    "    if _path.startswith(\"ticker_\"):\n",
    "        pos += 1\n",
    "        labels.append(1)\n",
    "    elif _path.startswith(\"no_ticker_\"):\n",
    "        neg += 1\n",
    "        labels.append(0)\n",
    "\n",
    "print((pos / total) * 100, (neg / total) * 100)"
   ]
  },
  {
   "cell_type": "code",
   "execution_count": 4,
   "metadata": {},
   "outputs": [
    {
     "name": "stdout",
     "output_type": "stream",
     "text": [
      "902 101\n"
     ]
    }
   ],
   "source": [
    "X_train, X_test, y_train, y_test = train_test_split(\n",
    "    image_paths, labels, test_size=0.10, random_state=42, stratify=labels\n",
    ")\n",
    "\n",
    "train_data = []\n",
    "for _path, label in zip(X_train, y_train):\n",
    "    obj = {\"path\": os.path.join(base_path, _path), \"label\": label_map.get(label)}\n",
    "    train_data.append(obj)\n",
    "\n",
    "test_data = []\n",
    "for _path, label in zip(X_test, y_test):\n",
    "    obj = {\"path\": os.path.join(base_path, _path), \"label\": label_map.get(label)}\n",
    "    test_data.append(obj)\n",
    "\n",
    "print(len(train_data), len(test_data))"
   ]
  },
  {
   "cell_type": "markdown",
   "metadata": {},
   "source": [
    "## Preprocessing"
   ]
  },
  {
   "cell_type": "code",
   "execution_count": 5,
   "metadata": {},
   "outputs": [],
   "source": [
    "## Utility function\n",
    "def zoom_at(img, zoom=1, angle=0, coord=None):\n",
    "\n",
    "    cy, cx = [i / 2 for i in img.shape] if coord is None else coord[::-1]\n",
    "\n",
    "    rot_mat = cv2.getRotationMatrix2D((cx, cy), angle, zoom)\n",
    "    result = cv2.warpAffine(img, rot_mat, img.shape[1::-1], flags=cv2.INTER_LINEAR)\n",
    "\n",
    "    return result"
   ]
  },
  {
   "cell_type": "code",
   "execution_count": 6,
   "metadata": {},
   "outputs": [],
   "source": [
    "def preprocess_image_roi(image_path, save_path, label):\n",
    "    \"\"\"\n",
    "    Preprocesses the image by applying various transformations to the ticker region of interest (ROI).\n",
    "\n",
    "    Parameters:\n",
    "    - image_path (str): Path to the input image.\n",
    "    - save_path (str): Path to save the augmented images.\n",
    "    - label (int): Class label (0 or 1).\n",
    "\n",
    "    Returns:\n",
    "    - None\n",
    "    \"\"\"\n",
    "    # Load Image\n",
    "    image = cv2.imread(image_path)\n",
    "    if image is None:\n",
    "        raise ValueError(\"Image not found!\")\n",
    "\n",
    "    # Convert to Grayscale\n",
    "    gray = cv2.cvtColor(image, cv2.COLOR_BGR2GRAY)\n",
    "\n",
    "    # Crop the bottom 8-10% (Focus on ticker region)\n",
    "    h, w = gray.shape\n",
    "    ticker_roi = gray[int(h * 0.92) :, :]\n",
    "\n",
    "    save_filename = f\"{os.path.splitext(os.path.basename(image_path))[0]}_orig.png\"\n",
    "    save_filepath = os.path.join(save_path, save_filename)\n",
    "    cv2.imwrite(save_filepath, ticker_roi)\n",
    "\n",
    "    # Define augmentations\n",
    "    def mirror_image(img):\n",
    "        return cv2.flip(img, 1)\n",
    "\n",
    "    def blur_image(img):\n",
    "        return cv2.GaussianBlur(img, (5, 5), 0)\n",
    "\n",
    "    def rotate_image_clockwise(img):\n",
    "        return cv2.rotate(img, cv2.ROTATE_90_CLOCKWISE)\n",
    "    \n",
    "    def rotate_image_counterclockwise(img):\n",
    "        return cv2.rotate(img, cv2.ROTATE_90_COUNTERCLOCKWISE)\n",
    "\n",
    "    augmentations = [\n",
    "        mirror_image,\n",
    "        blur_image,\n",
    "        rotate_image_clockwise,\n",
    "        rotate_image_counterclockwise,\n",
    "        lambda img: blur_image(mirror_image(img)),\n",
    "        lambda img: rotate_image_clockwise(mirror_image(img)),\n",
    "        lambda img: rotate_image_clockwise(blur_image(img)),\n",
    "        lambda img: rotate_image_clockwise(blur_image(mirror_image(img))),\n",
    "        lambda img: rotate_image_counterclockwise(mirror_image(img)),\n",
    "        lambda img: rotate_image_counterclockwise(blur_image(img)),\n",
    "        lambda img: rotate_image_counterclockwise(blur_image(mirror_image(img))),\n",
    "    ]\n",
    "\n",
    "    # Determine the number of augmentations based on the label\n",
    "    num_augmentations = len(augmentations) if label == 0 else 4\n",
    "\n",
    "    # Apply augmentations and save images\n",
    "    for idx, aug in enumerate(random.choices(augmentations, k=num_augmentations)):\n",
    "        augmented_img = aug(ticker_roi)\n",
    "        save_filename = (\n",
    "            f\"{os.path.splitext(os.path.basename(image_path))[0]}_aug{idx}.png\"\n",
    "        )\n",
    "        save_filepath = os.path.join(save_path, save_filename)\n",
    "        cv2.imwrite(save_filepath, augmented_img)\n",
    "\n",
    "\n",
    "# Preprocess and augment training data\n",
    "save_path = \"/Users/nitesh/Downloads/train_images/\"\n",
    "os.makedirs(save_path, exist_ok=True)\n",
    "\n",
    "for data in train_data:\n",
    "    preprocess_image_roi(data[\"path\"], save_path, class2lable_map.get(data[\"label\"]))"
   ]
  },
  {
   "cell_type": "code",
   "execution_count": 7,
   "metadata": {},
   "outputs": [
    {
     "name": "stdout",
     "output_type": "stream",
     "text": [
      "(52, 640, 3)\n",
      "(640, 52, 3)\n",
      "(640, 52, 3)\n"
     ]
    }
   ],
   "source": [
    "image = cv2.imread(save_path + \"no_ticker_00005_orig.png\")\n",
    "print(image.shape)\n",
    "\n",
    "image = cv2.imread(save_path + \"no_ticker_00005_aug4.png\")\n",
    "print(image.shape)\n",
    "\n",
    "image = cv2.imread(save_path + \"no_ticker_00005_aug5.png\")\n",
    "print(image.shape)"
   ]
  },
  {
   "cell_type": "markdown",
   "metadata": {},
   "source": [
    "## Training"
   ]
  },
  {
   "cell_type": "code",
   "execution_count": 8,
   "metadata": {},
   "outputs": [],
   "source": [
    "class BalancedImageDataGenerator(Sequence):\n",
    "    \"\"\"\n",
    "    A custom data generator that loads and preprocesses images while ensuring balanced batches.\n",
    "    \"\"\"\n",
    "\n",
    "    def __init__(\n",
    "        self, image_paths, batch_size=32, target_size=(224, 224), shuffle=True\n",
    "    ):\n",
    "        \"\"\"\n",
    "        Initializes the data generator.\n",
    "\n",
    "        Args:\n",
    "            image_paths (list): List of image file paths.\n",
    "            batch_size (int): Number of images per batch.\n",
    "            target_size (tuple): Desired image size (height, width).\n",
    "            shuffle (bool): Whether to shuffle data after each epoch.\n",
    "        \"\"\"\n",
    "        self.image_paths = image_paths\n",
    "        self.batch_size = batch_size\n",
    "        self.target_size = target_size\n",
    "        self.shuffle = shuffle\n",
    "        self.classes = self._extract_classes()\n",
    "        self.label_map = {1: \"ticker\", 0: \"no_ticker\"}\n",
    "        self.class2label_map = {v: k for k, v in label_map.items()}\n",
    "        self.labels = list(map(self.class2label_map.get, self.classes))\n",
    "        self.class_indices = self._group_by_class()\n",
    "        self.on_epoch_end()\n",
    "\n",
    "    def _extract_classes(self):\n",
    "        \"\"\"\n",
    "        Extracts class labels from image file names.\n",
    "\n",
    "        Returns:\n",
    "            list: List of class labels.\n",
    "        \"\"\"\n",
    "        return [os.path.basename(path).rsplit(\"_\", 2)[0] for path in self.image_paths]\n",
    "\n",
    "    def _group_by_class(self):\n",
    "        \"\"\"\n",
    "        Groups image paths by class labels.\n",
    "\n",
    "        Returns:\n",
    "            dict: Dictionary mapping class labels to image paths.\n",
    "        \"\"\"\n",
    "        class_indices = defaultdict(list)\n",
    "        for idx, label in enumerate(self.labels):\n",
    "            class_indices[label].append(self.image_paths[idx])\n",
    "        return class_indices\n",
    "\n",
    "    def __len__(self):\n",
    "        \"\"\"\n",
    "        Returns the number of batches per epoch.\n",
    "\n",
    "        Returns:\n",
    "            int: Number of batches per epoch.\n",
    "        \"\"\"\n",
    "        return int(np.floor(len(self.image_paths) / self.batch_size))\n",
    "\n",
    "    def _load_and_resize_image(self, path):\n",
    "        \"\"\"\n",
    "        Loads and resizes an image while preserving aspect ratio and padding.\n",
    "\n",
    "        Args:\n",
    "            path (str): Path to the image file.\n",
    "\n",
    "        Returns:\n",
    "            np.array: Preprocessed image array.\n",
    "        \"\"\"\n",
    "        image = cv2.imread(path)\n",
    "        image = cv2.cvtColor(image, cv2.COLOR_BGR2RGB)\n",
    "        old_h, old_w, _ = image.shape\n",
    "        scale = min(self.target_size[0] / old_h, self.target_size[1] / old_w)\n",
    "        new_h, new_w = int(old_h * scale), int(old_w * scale)\n",
    "        resized = cv2.resize(image, (new_w, new_h))\n",
    "        padded = np.full(\n",
    "            (self.target_size[0], self.target_size[1], 3), 255, dtype=np.uint8\n",
    "        )\n",
    "        pad_h, pad_w = (self.target_size[0] - new_h) // 2, (\n",
    "            self.target_size[1] - new_w\n",
    "        ) // 2\n",
    "        padded[pad_h : pad_h + new_h, pad_w : pad_w + new_w] = resized\n",
    "        return padded / 255.0\n",
    "\n",
    "    def __getitem__(self, index):\n",
    "        \"\"\"\n",
    "        Generates one batch of data.\n",
    "\n",
    "        Args:\n",
    "            index (int): Batch index.\n",
    "\n",
    "        Returns:\n",
    "            tuple: Batch of images and corresponding labels.\n",
    "        \"\"\"\n",
    "        batch_paths = []\n",
    "        num_classes = len(self.class_indices)\n",
    "        per_class = max(1, self.batch_size // num_classes)\n",
    "\n",
    "        for label, paths in self.class_indices.items():\n",
    "            sampled_paths = np.random.choice(\n",
    "                paths, per_class, replace=len(paths) < per_class\n",
    "            )\n",
    "            batch_paths.extend(sampled_paths)\n",
    "\n",
    "        if len(batch_paths) > self.batch_size:\n",
    "            batch_paths = np.random.choice(batch_paths, self.batch_size, replace=False)\n",
    "\n",
    "        batch_labels = [\n",
    "            self.class2label_map.get(os.path.basename(p).rsplit(\"_\", 2)[0])\n",
    "            for p in batch_paths\n",
    "        ]\n",
    "\n",
    "        images = np.array([self._load_and_resize_image(p) for p in batch_paths])\n",
    "        labels = np.array(batch_labels)\n",
    "        return images, labels\n",
    "\n",
    "    def on_epoch_end(self):\n",
    "        \"\"\"\n",
    "        Shuffles data at the end of each epoch.\n",
    "        \"\"\"\n",
    "        if self.shuffle:\n",
    "            for key in self.class_indices:\n",
    "                np.random.shuffle(self.class_indices[key])"
   ]
  },
  {
   "cell_type": "code",
   "execution_count": 9,
   "metadata": {},
   "outputs": [
    {
     "name": "stdout",
     "output_type": "stream",
     "text": [
      "[1 1 1 1 0 0 0 0]\n"
     ]
    }
   ],
   "source": [
    "# Testing data generator\n",
    "image_paths = [\n",
    "    os.path.join(save_path, _path)\n",
    "    for _path in os.listdir(save_path)\n",
    "    if _path.endswith(\".png\")\n",
    "]\n",
    "\n",
    "data_generator = BalancedImageDataGenerator(\n",
    "    image_paths, batch_size=8, target_size=(224, 224), shuffle=True\n",
    ")\n",
    "images, labels = data_generator.__getitem__(10)\n",
    "print(labels)"
   ]
  },
  {
   "cell_type": "code",
   "execution_count": 10,
   "metadata": {},
   "outputs": [
    {
     "data": {
      "image/png": "[encoded data removed]",
      "text/plain": [
       "<Figure size 1200x600 with 8 Axes>"
      ]
     },
     "metadata": {},
     "output_type": "display_data"
    }
   ],
   "source": [
    "plt.figure(figsize=(12, 6))\n",
    "for i in range(8):\n",
    "    plt.subplot(2, 4, i + 1)\n",
    "    plt.imshow(images[i])  # Images are already normalized (0-1)\n",
    "    plt.title(f\"Label: {labels[i]}\")\n",
    "    plt.axis(\"off\")\n",
    "plt.tight_layout()\n",
    "plt.show()"
   ]
  },
  {
   "cell_type": "code",
   "execution_count": 11,
   "metadata": {},
   "outputs": [],
   "source": [
    "del data_generator"
   ]
  },
  {
   "cell_type": "code",
   "execution_count": 22,
   "metadata": {},
   "outputs": [
    {
     "name": "stdout",
     "output_type": "stream",
     "text": [
      "5526 615\n"
     ]
    }
   ],
   "source": [
    "labels = [\n",
    "    1 if _path.split(\"/\")[-1].startswith(\"ticker_\") else 0 for _path in image_paths\n",
    "]\n",
    "X_train, X_val, y_train, y_val = train_test_split(\n",
    "    image_paths, labels, test_size=0.10, random_state=42, stratify=labels\n",
    ")\n",
    "print(len(X_train), len(X_val))\n",
    "\n",
    "train_data_generator = BalancedImageDataGenerator(\n",
    "    X_train, batch_size=64, target_size=(224, 224), shuffle=True\n",
    ")\n",
    "\n",
    "val_data_generator = BalancedImageDataGenerator(\n",
    "    X_val, batch_size=64, target_size=(224, 224), shuffle=True\n",
    ")"
   ]
  },
  {
   "cell_type": "code",
   "execution_count": 23,
   "metadata": {},
   "outputs": [
    {
     "name": "stdout",
     "output_type": "stream",
     "text": [
      "Counter({1: 3010, 0: 2516})\n",
      "Counter({1: 335, 0: 280})\n"
     ]
    }
   ],
   "source": [
    "# Checking dataset balance\n",
    "from collections import Counter\n",
    "print(Counter(y_train))\n",
    "print(Counter(y_val))"
   ]
  },
  {
   "cell_type": "code",
   "execution_count": 49,
   "metadata": {},
   "outputs": [],
   "source": [
    "def build_cnn_model(input_shape=(224, 224, 3)):\n",
    "    \"\"\"\n",
    "    Builds a 3-layer CNN model with regularization.\n",
    "\n",
    "    Args:\n",
    "        input_shape (tuple): Shape of input images.\n",
    "\n",
    "    Returns:\n",
    "        model (tf.keras.Model): Compiled CNN model.\n",
    "    \"\"\"\n",
    "    model = tf.keras.Sequential(\n",
    "        [\n",
    "            tf.keras.layers.Input(input_shape),\n",
    "            tf.keras.layers.Conv2D(\n",
    "                32,\n",
    "                (3, 3),\n",
    "                activation=\"relu\",\n",
    "                kernel_regularizer=tf.keras.regularizers.l2(0.01),\n",
    "            ),\n",
    "            tf.keras.layers.BatchNormalization(),\n",
    "            tf.keras.layers.MaxPooling2D((2, 2)),\n",
    "            tf.keras.layers.Conv2D(\n",
    "                64,\n",
    "                (3, 3),\n",
    "                activation=\"relu\",\n",
    "                kernel_regularizer=tf.keras.regularizers.l2(0.01),\n",
    "            ),\n",
    "            tf.keras.layers.BatchNormalization(),\n",
    "            tf.keras.layers.MaxPooling2D((2, 2)),\n",
    "            tf.keras.layers.Conv2D(\n",
    "                128,\n",
    "                (3, 3),\n",
    "                activation=\"relu\",\n",
    "                kernel_regularizer=tf.keras.regularizers.l2(0.01),\n",
    "            ),\n",
    "            tf.keras.layers.BatchNormalization(),\n",
    "            tf.keras.layers.MaxPooling2D((2, 2)),\n",
    "            tf.keras.layers.Flatten(),\n",
    "            tf.keras.layers.Dropout(0.5),\n",
    "            tf.keras.layers.Dense(\n",
    "                128,\n",
    "                activation=\"relu\",\n",
    "                kernel_regularizer=tf.keras.regularizers.l2(0.01),\n",
    "            ),\n",
    "            tf.keras.layers.BatchNormalization(),\n",
    "            tf.keras.layers.Dense(1, activation=\"sigmoid\"),\n",
    "        ]\n",
    "    )\n",
    "\n",
    "    model.compile(optimizer=\"adam\", loss=\"binary_crossentropy\", metrics=[\"accuracy\"])\n",
    "    return model"
   ]
  },
  {
   "cell_type": "code",
   "execution_count": 50,
   "metadata": {},
   "outputs": [
    {
     "data": {
      "text/html": [
       "<pre style=\"white-space:pre;overflow-x:auto;line-height:normal;font-family:Menlo,'DejaVu Sans Mono',consolas,'Courier New',monospace\"><span style=\"font-weight: bold\">Model: \"sequential_8\"</span>\n",
       "</pre>\n"
      ],
      "text/plain": [
       "\u001b[1mModel: \"sequential_8\"\u001b[0m\n"
      ]
     },
     "metadata": {},
     "output_type": "display_data"
    },
    {
     "data": {
      "text/html": [
       "<pre style=\"white-space:pre;overflow-x:auto;line-height:normal;font-family:Menlo,'DejaVu Sans Mono',consolas,'Courier New',monospace\">┏━━━━━━━━━━━━━━━━━━━━━━━━━━━━━━━━━┳━━━━━━━━━━━━━━━━━━━━━━━━┳━━━━━━━━━━━━━━━┓\n",
       "┃<span style=\"font-weight: bold\"> Layer (type)                    </span>┃<span style=\"font-weight: bold\"> Output Shape           </span>┃<span style=\"font-weight: bold\">       Param # </span>┃\n",
       "┡━━━━━━━━━━━━━━━━━━━━━━━━━━━━━━━━━╇━━━━━━━━━━━━━━━━━━━━━━━━╇━━━━━━━━━━━━━━━┩\n",
       "│ conv2d_23 (<span style=\"color: #0087ff; text-decoration-color: #0087ff\">Conv2D</span>)              │ (<span style=\"color: #00d7ff; text-decoration-color: #00d7ff\">None</span>, <span style=\"color: #00af00; text-decoration-color: #00af00\">222</span>, <span style=\"color: #00af00; text-decoration-color: #00af00\">222</span>, <span style=\"color: #00af00; text-decoration-color: #00af00\">32</span>)   │           <span style=\"color: #00af00; text-decoration-color: #00af00\">896</span> │\n",
       "├─────────────────────────────────┼────────────────────────┼───────────────┤\n",
       "│ batch_normalization_31          │ (<span style=\"color: #00d7ff; text-decoration-color: #00d7ff\">None</span>, <span style=\"color: #00af00; text-decoration-color: #00af00\">222</span>, <span style=\"color: #00af00; text-decoration-color: #00af00\">222</span>, <span style=\"color: #00af00; text-decoration-color: #00af00\">32</span>)   │           <span style=\"color: #00af00; text-decoration-color: #00af00\">128</span> │\n",
       "│ (<span style=\"color: #0087ff; text-decoration-color: #0087ff\">BatchNormalization</span>)            │                        │               │\n",
       "├─────────────────────────────────┼────────────────────────┼───────────────┤\n",
       "│ max_pooling2d_23 (<span style=\"color: #0087ff; text-decoration-color: #0087ff\">MaxPooling2D</span>) │ (<span style=\"color: #00d7ff; text-decoration-color: #00d7ff\">None</span>, <span style=\"color: #00af00; text-decoration-color: #00af00\">111</span>, <span style=\"color: #00af00; text-decoration-color: #00af00\">111</span>, <span style=\"color: #00af00; text-decoration-color: #00af00\">32</span>)   │             <span style=\"color: #00af00; text-decoration-color: #00af00\">0</span> │\n",
       "├─────────────────────────────────┼────────────────────────┼───────────────┤\n",
       "│ conv2d_24 (<span style=\"color: #0087ff; text-decoration-color: #0087ff\">Conv2D</span>)              │ (<span style=\"color: #00d7ff; text-decoration-color: #00d7ff\">None</span>, <span style=\"color: #00af00; text-decoration-color: #00af00\">109</span>, <span style=\"color: #00af00; text-decoration-color: #00af00\">109</span>, <span style=\"color: #00af00; text-decoration-color: #00af00\">64</span>)   │        <span style=\"color: #00af00; text-decoration-color: #00af00\">18,496</span> │\n",
       "├─────────────────────────────────┼────────────────────────┼───────────────┤\n",
       "│ batch_normalization_32          │ (<span style=\"color: #00d7ff; text-decoration-color: #00d7ff\">None</span>, <span style=\"color: #00af00; text-decoration-color: #00af00\">109</span>, <span style=\"color: #00af00; text-decoration-color: #00af00\">109</span>, <span style=\"color: #00af00; text-decoration-color: #00af00\">64</span>)   │           <span style=\"color: #00af00; text-decoration-color: #00af00\">256</span> │\n",
       "│ (<span style=\"color: #0087ff; text-decoration-color: #0087ff\">BatchNormalization</span>)            │                        │               │\n",
       "├─────────────────────────────────┼────────────────────────┼───────────────┤\n",
       "│ max_pooling2d_24 (<span style=\"color: #0087ff; text-decoration-color: #0087ff\">MaxPooling2D</span>) │ (<span style=\"color: #00d7ff; text-decoration-color: #00d7ff\">None</span>, <span style=\"color: #00af00; text-decoration-color: #00af00\">54</span>, <span style=\"color: #00af00; text-decoration-color: #00af00\">54</span>, <span style=\"color: #00af00; text-decoration-color: #00af00\">64</span>)     │             <span style=\"color: #00af00; text-decoration-color: #00af00\">0</span> │\n",
       "├─────────────────────────────────┼────────────────────────┼───────────────┤\n",
       "│ conv2d_25 (<span style=\"color: #0087ff; text-decoration-color: #0087ff\">Conv2D</span>)              │ (<span style=\"color: #00d7ff; text-decoration-color: #00d7ff\">None</span>, <span style=\"color: #00af00; text-decoration-color: #00af00\">52</span>, <span style=\"color: #00af00; text-decoration-color: #00af00\">52</span>, <span style=\"color: #00af00; text-decoration-color: #00af00\">128</span>)    │        <span style=\"color: #00af00; text-decoration-color: #00af00\">73,856</span> │\n",
       "├─────────────────────────────────┼────────────────────────┼───────────────┤\n",
       "│ batch_normalization_33          │ (<span style=\"color: #00d7ff; text-decoration-color: #00d7ff\">None</span>, <span style=\"color: #00af00; text-decoration-color: #00af00\">52</span>, <span style=\"color: #00af00; text-decoration-color: #00af00\">52</span>, <span style=\"color: #00af00; text-decoration-color: #00af00\">128</span>)    │           <span style=\"color: #00af00; text-decoration-color: #00af00\">512</span> │\n",
       "│ (<span style=\"color: #0087ff; text-decoration-color: #0087ff\">BatchNormalization</span>)            │                        │               │\n",
       "├─────────────────────────────────┼────────────────────────┼───────────────┤\n",
       "│ max_pooling2d_25 (<span style=\"color: #0087ff; text-decoration-color: #0087ff\">MaxPooling2D</span>) │ (<span style=\"color: #00d7ff; text-decoration-color: #00d7ff\">None</span>, <span style=\"color: #00af00; text-decoration-color: #00af00\">26</span>, <span style=\"color: #00af00; text-decoration-color: #00af00\">26</span>, <span style=\"color: #00af00; text-decoration-color: #00af00\">128</span>)    │             <span style=\"color: #00af00; text-decoration-color: #00af00\">0</span> │\n",
       "├─────────────────────────────────┼────────────────────────┼───────────────┤\n",
       "│ flatten_8 (<span style=\"color: #0087ff; text-decoration-color: #0087ff\">Flatten</span>)             │ (<span style=\"color: #00d7ff; text-decoration-color: #00d7ff\">None</span>, <span style=\"color: #00af00; text-decoration-color: #00af00\">86528</span>)          │             <span style=\"color: #00af00; text-decoration-color: #00af00\">0</span> │\n",
       "├─────────────────────────────────┼────────────────────────┼───────────────┤\n",
       "│ dropout_8 (<span style=\"color: #0087ff; text-decoration-color: #0087ff\">Dropout</span>)             │ (<span style=\"color: #00d7ff; text-decoration-color: #00d7ff\">None</span>, <span style=\"color: #00af00; text-decoration-color: #00af00\">86528</span>)          │             <span style=\"color: #00af00; text-decoration-color: #00af00\">0</span> │\n",
       "├─────────────────────────────────┼────────────────────────┼───────────────┤\n",
       "│ dense_16 (<span style=\"color: #0087ff; text-decoration-color: #0087ff\">Dense</span>)                │ (<span style=\"color: #00d7ff; text-decoration-color: #00d7ff\">None</span>, <span style=\"color: #00af00; text-decoration-color: #00af00\">128</span>)            │    <span style=\"color: #00af00; text-decoration-color: #00af00\">11,075,712</span> │\n",
       "├─────────────────────────────────┼────────────────────────┼───────────────┤\n",
       "│ batch_normalization_34          │ (<span style=\"color: #00d7ff; text-decoration-color: #00d7ff\">None</span>, <span style=\"color: #00af00; text-decoration-color: #00af00\">128</span>)            │           <span style=\"color: #00af00; text-decoration-color: #00af00\">512</span> │\n",
       "│ (<span style=\"color: #0087ff; text-decoration-color: #0087ff\">BatchNormalization</span>)            │                        │               │\n",
       "├─────────────────────────────────┼────────────────────────┼───────────────┤\n",
       "│ dense_17 (<span style=\"color: #0087ff; text-decoration-color: #0087ff\">Dense</span>)                │ (<span style=\"color: #00d7ff; text-decoration-color: #00d7ff\">None</span>, <span style=\"color: #00af00; text-decoration-color: #00af00\">1</span>)              │           <span style=\"color: #00af00; text-decoration-color: #00af00\">129</span> │\n",
       "└─────────────────────────────────┴────────────────────────┴───────────────┘\n",
       "</pre>\n"
      ],
      "text/plain": [
       "┏━━━━━━━━━━━━━━━━━━━━━━━━━━━━━━━━━┳━━━━━━━━━━━━━━━━━━━━━━━━┳━━━━━━━━━━━━━━━┓\n",
       "┃\u001b[1m \u001b[0m\u001b[1mLayer (type)                   \u001b[0m\u001b[1m \u001b[0m┃\u001b[1m \u001b[0m\u001b[1mOutput Shape          \u001b[0m\u001b[1m \u001b[0m┃\u001b[1m \u001b[0m\u001b[1m      Param #\u001b[0m\u001b[1m \u001b[0m┃\n",
       "┡━━━━━━━━━━━━━━━━━━━━━━━━━━━━━━━━━╇━━━━━━━━━━━━━━━━━━━━━━━━╇━━━━━━━━━━━━━━━┩\n",
       "│ conv2d_23 (\u001b[38;5;33mConv2D\u001b[0m)              │ (\u001b[38;5;45mNone\u001b[0m, \u001b[38;5;34m222\u001b[0m, \u001b[38;5;34m222\u001b[0m, \u001b[38;5;34m32\u001b[0m)   │           \u001b[38;5;34m896\u001b[0m │\n",
       "├─────────────────────────────────┼────────────────────────┼───────────────┤\n",
       "│ batch_normalization_31          │ (\u001b[38;5;45mNone\u001b[0m, \u001b[38;5;34m222\u001b[0m, \u001b[38;5;34m222\u001b[0m, \u001b[38;5;34m32\u001b[0m)   │           \u001b[38;5;34m128\u001b[0m │\n",
       "│ (\u001b[38;5;33mBatchNormalization\u001b[0m)            │                        │               │\n",
       "├─────────────────────────────────┼────────────────────────┼───────────────┤\n",
       "│ max_pooling2d_23 (\u001b[38;5;33mMaxPooling2D\u001b[0m) │ (\u001b[38;5;45mNone\u001b[0m, \u001b[38;5;34m111\u001b[0m, \u001b[38;5;34m111\u001b[0m, \u001b[38;5;34m32\u001b[0m)   │             \u001b[38;5;34m0\u001b[0m │\n",
       "├─────────────────────────────────┼────────────────────────┼───────────────┤\n",
       "│ conv2d_24 (\u001b[38;5;33mConv2D\u001b[0m)              │ (\u001b[38;5;45mNone\u001b[0m, \u001b[38;5;34m109\u001b[0m, \u001b[38;5;34m109\u001b[0m, \u001b[38;5;34m64\u001b[0m)   │        \u001b[38;5;34m18,496\u001b[0m │\n",
       "├─────────────────────────────────┼────────────────────────┼───────────────┤\n",
       "│ batch_normalization_32          │ (\u001b[38;5;45mNone\u001b[0m, \u001b[38;5;34m109\u001b[0m, \u001b[38;5;34m109\u001b[0m, \u001b[38;5;34m64\u001b[0m)   │           \u001b[38;5;34m256\u001b[0m │\n",
       "│ (\u001b[38;5;33mBatchNormalization\u001b[0m)            │                        │               │\n",
       "├─────────────────────────────────┼────────────────────────┼───────────────┤\n",
       "│ max_pooling2d_24 (\u001b[38;5;33mMaxPooling2D\u001b[0m) │ (\u001b[38;5;45mNone\u001b[0m, \u001b[38;5;34m54\u001b[0m, \u001b[38;5;34m54\u001b[0m, \u001b[38;5;34m64\u001b[0m)     │             \u001b[38;5;34m0\u001b[0m │\n",
       "├─────────────────────────────────┼────────────────────────┼───────────────┤\n",
       "│ conv2d_25 (\u001b[38;5;33mConv2D\u001b[0m)              │ (\u001b[38;5;45mNone\u001b[0m, \u001b[38;5;34m52\u001b[0m, \u001b[38;5;34m52\u001b[0m, \u001b[38;5;34m128\u001b[0m)    │        \u001b[38;5;34m73,856\u001b[0m │\n",
       "├─────────────────────────────────┼────────────────────────┼───────────────┤\n",
       "│ batch_normalization_33          │ (\u001b[38;5;45mNone\u001b[0m, \u001b[38;5;34m52\u001b[0m, \u001b[38;5;34m52\u001b[0m, \u001b[38;5;34m128\u001b[0m)    │           \u001b[38;5;34m512\u001b[0m │\n",
       "│ (\u001b[38;5;33mBatchNormalization\u001b[0m)            │                        │               │\n",
       "├─────────────────────────────────┼────────────────────────┼───────────────┤\n",
       "│ max_pooling2d_25 (\u001b[38;5;33mMaxPooling2D\u001b[0m) │ (\u001b[38;5;45mNone\u001b[0m, \u001b[38;5;34m26\u001b[0m, \u001b[38;5;34m26\u001b[0m, \u001b[38;5;34m128\u001b[0m)    │             \u001b[38;5;34m0\u001b[0m │\n",
       "├─────────────────────────────────┼────────────────────────┼───────────────┤\n",
       "│ flatten_8 (\u001b[38;5;33mFlatten\u001b[0m)             │ (\u001b[38;5;45mNone\u001b[0m, \u001b[38;5;34m86528\u001b[0m)          │             \u001b[38;5;34m0\u001b[0m │\n",
       "├─────────────────────────────────┼────────────────────────┼───────────────┤\n",
       "│ dropout_8 (\u001b[38;5;33mDropout\u001b[0m)             │ (\u001b[38;5;45mNone\u001b[0m, \u001b[38;5;34m86528\u001b[0m)          │             \u001b[38;5;34m0\u001b[0m │\n",
       "├─────────────────────────────────┼────────────────────────┼───────────────┤\n",
       "│ dense_16 (\u001b[38;5;33mDense\u001b[0m)                │ (\u001b[38;5;45mNone\u001b[0m, \u001b[38;5;34m128\u001b[0m)            │    \u001b[38;5;34m11,075,712\u001b[0m │\n",
       "├─────────────────────────────────┼────────────────────────┼───────────────┤\n",
       "│ batch_normalization_34          │ (\u001b[38;5;45mNone\u001b[0m, \u001b[38;5;34m128\u001b[0m)            │           \u001b[38;5;34m512\u001b[0m │\n",
       "│ (\u001b[38;5;33mBatchNormalization\u001b[0m)            │                        │               │\n",
       "├─────────────────────────────────┼────────────────────────┼───────────────┤\n",
       "│ dense_17 (\u001b[38;5;33mDense\u001b[0m)                │ (\u001b[38;5;45mNone\u001b[0m, \u001b[38;5;34m1\u001b[0m)              │           \u001b[38;5;34m129\u001b[0m │\n",
       "└─────────────────────────────────┴────────────────────────┴───────────────┘\n"
      ]
     },
     "metadata": {},
     "output_type": "display_data"
    },
    {
     "data": {
      "text/html": [
       "<pre style=\"white-space:pre;overflow-x:auto;line-height:normal;font-family:Menlo,'DejaVu Sans Mono',consolas,'Courier New',monospace\"><span style=\"font-weight: bold\"> Total params: </span><span style=\"color: #00af00; text-decoration-color: #00af00\">11,170,497</span> (42.61 MB)\n",
       "</pre>\n"
      ],
      "text/plain": [
       "\u001b[1m Total params: \u001b[0m\u001b[38;5;34m11,170,497\u001b[0m (42.61 MB)\n"
      ]
     },
     "metadata": {},
     "output_type": "display_data"
    },
    {
     "data": {
      "text/html": [
       "<pre style=\"white-space:pre;overflow-x:auto;line-height:normal;font-family:Menlo,'DejaVu Sans Mono',consolas,'Courier New',monospace\"><span style=\"font-weight: bold\"> Trainable params: </span><span style=\"color: #00af00; text-decoration-color: #00af00\">11,169,793</span> (42.61 MB)\n",
       "</pre>\n"
      ],
      "text/plain": [
       "\u001b[1m Trainable params: \u001b[0m\u001b[38;5;34m11,169,793\u001b[0m (42.61 MB)\n"
      ]
     },
     "metadata": {},
     "output_type": "display_data"
    },
    {
     "data": {
      "text/html": [
       "<pre style=\"white-space:pre;overflow-x:auto;line-height:normal;font-family:Menlo,'DejaVu Sans Mono',consolas,'Courier New',monospace\"><span style=\"font-weight: bold\"> Non-trainable params: </span><span style=\"color: #00af00; text-decoration-color: #00af00\">704</span> (2.75 KB)\n",
       "</pre>\n"
      ],
      "text/plain": [
       "\u001b[1m Non-trainable params: \u001b[0m\u001b[38;5;34m704\u001b[0m (2.75 KB)\n"
      ]
     },
     "metadata": {},
     "output_type": "display_data"
    }
   ],
   "source": [
    "classifier = build_cnn_model()\n",
    "classifier.summary()"
   ]
  },
  {
   "cell_type": "code",
   "execution_count": null,
   "metadata": {},
   "outputs": [],
   "source": [
    "# Learning rate scheduler\n",
    "class FactorScheduler:\n",
    "    def __init__(self, factor=1, stop_factor_lr=1e-7, base_lr=0.1):\n",
    "        self.factor = factor\n",
    "        self.stop_factor_lr = stop_factor_lr\n",
    "        self.base_lr = base_lr\n",
    "\n",
    "    def __call__(self, num_update):\n",
    "        self.base_lr = max(self.stop_factor_lr, self.base_lr * self.factor)\n",
    "        return self.base_lr\n",
    "\n",
    "scheduler = FactorScheduler(factor=0.9, stop_factor_lr=0.001, base_lr=0.1)"
   ]
  },
  {
   "cell_type": "code",
   "execution_count": 52,
   "metadata": {},
   "outputs": [
    {
     "name": "stdout",
     "output_type": "stream",
     "text": [
      "Epoch 1/100\n",
      "\u001b[1m86/86\u001b[0m \u001b[32m━━━━━━━━━━━━━━━━━━━━\u001b[0m\u001b[37m\u001b[0m \u001b[1m105s\u001b[0m 1s/step - accuracy: 0.7772 - loss: 258.3219 - val_accuracy: 0.5000 - val_loss: 83.3166 - learning_rate: 0.0900\n",
      "Epoch 2/100\n",
      "\u001b[1m86/86\u001b[0m \u001b[32m━━━━━━━━━━━━━━━━━━━━\u001b[0m\u001b[37m\u001b[0m \u001b[1m97s\u001b[0m 1s/step - accuracy: 0.8979 - loss: 21.6860 - val_accuracy: 0.5000 - val_loss: 7.1596 - learning_rate: 0.0810\n",
      "Epoch 3/100\n",
      "\u001b[1m86/86\u001b[0m \u001b[32m━━━━━━━━━━━━━━━━━━━━\u001b[0m\u001b[37m\u001b[0m \u001b[1m95s\u001b[0m 1s/step - accuracy: 0.9456 - loss: 5.7626 - val_accuracy: 0.5365 - val_loss: 9.2561 - learning_rate: 0.0729\n",
      "Epoch 4/100\n",
      "\u001b[1m86/86\u001b[0m \u001b[32m━━━━━━━━━━━━━━━━━━━━\u001b[0m\u001b[37m\u001b[0m \u001b[1m92s\u001b[0m 1s/step - accuracy: 0.9489 - loss: 8.4311 - val_accuracy: 0.5000 - val_loss: 6.8898 - learning_rate: 0.0656\n",
      "Epoch 5/100\n",
      "\u001b[1m86/86\u001b[0m \u001b[32m━━━━━━━━━━━━━━━━━━━━\u001b[0m\u001b[37m\u001b[0m \u001b[1m94s\u001b[0m 1s/step - accuracy: 0.9728 - loss: 5.1835 - val_accuracy: 0.5000 - val_loss: 4.2530 - learning_rate: 0.0590\n",
      "Epoch 6/100\n",
      "\u001b[1m86/86\u001b[0m \u001b[32m━━━━━━━━━━━━━━━━━━━━\u001b[0m\u001b[37m\u001b[0m \u001b[1m94s\u001b[0m 1s/step - accuracy: 0.9829 - loss: 3.1320 - val_accuracy: 0.5260 - val_loss: 10.4595 - learning_rate: 0.0531\n",
      "Epoch 7/100\n",
      "\u001b[1m86/86\u001b[0m \u001b[32m━━━━━━━━━━━━━━━━━━━━\u001b[0m\u001b[37m\u001b[0m \u001b[1m98s\u001b[0m 1s/step - accuracy: 0.9775 - loss: 4.4136 - val_accuracy: 0.5417 - val_loss: 12.9255 - learning_rate: 0.0478\n",
      "Epoch 8/100\n",
      "\u001b[1m86/86\u001b[0m \u001b[32m━━━━━━━━━━━━━━━━━━━━\u001b[0m\u001b[37m\u001b[0m \u001b[1m94s\u001b[0m 1s/step - accuracy: 0.9422 - loss: 4.5327 - val_accuracy: 0.5000 - val_loss: 5.1485 - learning_rate: 0.0430\n",
      "Epoch 9/100\n",
      "\u001b[1m86/86\u001b[0m \u001b[32m━━━━━━━━━━━━━━━━━━━━\u001b[0m\u001b[37m\u001b[0m \u001b[1m100s\u001b[0m 1s/step - accuracy: 0.9817 - loss: 2.5129 - val_accuracy: 0.5000 - val_loss: 3.9692 - learning_rate: 0.0387\n",
      "Epoch 10/100\n",
      "\u001b[1m86/86\u001b[0m \u001b[32m━━━━━━━━━━━━━━━━━━━━\u001b[0m\u001b[37m\u001b[0m \u001b[1m92s\u001b[0m 1s/step - accuracy: 0.9909 - loss: 0.9786 - val_accuracy: 0.5000 - val_loss: 4.0966 - learning_rate: 0.0349\n",
      "Epoch 11/100\n",
      "\u001b[1m86/86\u001b[0m \u001b[32m━━━━━━━━━━━━━━━━━━━━\u001b[0m\u001b[37m\u001b[0m \u001b[1m90s\u001b[0m 1s/step - accuracy: 0.9911 - loss: 2.2121 - val_accuracy: 0.4948 - val_loss: 4.9073 - learning_rate: 0.0314\n",
      "Epoch 12/100\n",
      "\u001b[1m86/86\u001b[0m \u001b[32m━━━━━━━━━━━━━━━━━━━━\u001b[0m\u001b[37m\u001b[0m \u001b[1m94s\u001b[0m 1s/step - accuracy: 0.9807 - loss: 1.3771 - val_accuracy: 0.7587 - val_loss: 1.9998 - learning_rate: 0.0282\n",
      "Epoch 13/100\n",
      "\u001b[1m86/86\u001b[0m \u001b[32m━━━━━━━━━━━━━━━━━━━━\u001b[0m\u001b[37m\u001b[0m \u001b[1m95s\u001b[0m 1s/step - accuracy: 0.9900 - loss: 1.3183 - val_accuracy: 0.8299 - val_loss: 0.7921 - learning_rate: 0.0254\n",
      "Epoch 14/100\n",
      "\u001b[1m86/86\u001b[0m \u001b[32m━━━━━━━━━━━━━━━━━━━━\u001b[0m\u001b[37m\u001b[0m \u001b[1m97s\u001b[0m 1s/step - accuracy: 0.9964 - loss: 0.4350 - val_accuracy: 0.8385 - val_loss: 1.2083 - learning_rate: 0.0229\n",
      "Epoch 15/100\n",
      "\u001b[1m86/86\u001b[0m \u001b[32m━━━━━━━━━━━━━━━━━━━━\u001b[0m\u001b[37m\u001b[0m \u001b[1m108s\u001b[0m 1s/step - accuracy: 0.9883 - loss: 1.0996 - val_accuracy: 0.5000 - val_loss: 30.4923 - learning_rate: 0.0206\n",
      "Epoch 16/100\n",
      "\u001b[1m86/86\u001b[0m \u001b[32m━━━━━━━━━━━━━━━━━━━━\u001b[0m\u001b[37m\u001b[0m \u001b[1m100s\u001b[0m 1s/step - accuracy: 0.9666 - loss: 2.3921 - val_accuracy: 0.5000 - val_loss: 17.0821 - learning_rate: 0.0185\n",
      "Epoch 17/100\n",
      "\u001b[1m86/86\u001b[0m \u001b[32m━━━━━━━━━━━━━━━━━━━━\u001b[0m\u001b[37m\u001b[0m \u001b[1m99s\u001b[0m 1s/step - accuracy: 0.9938 - loss: 0.7150 - val_accuracy: 0.5000 - val_loss: 2.5825 - learning_rate: 0.0167\n",
      "Epoch 18/100\n",
      "\u001b[1m86/86\u001b[0m \u001b[32m━━━━━━━━━━━━━━━━━━━━\u001b[0m\u001b[37m\u001b[0m \u001b[1m101s\u001b[0m 1s/step - accuracy: 0.9965 - loss: 0.3252 - val_accuracy: 0.5000 - val_loss: 3.7133 - learning_rate: 0.0150\n",
      "Epoch 19/100\n",
      "\u001b[1m86/86\u001b[0m \u001b[32m━━━━━━━━━━━━━━━━━━━━\u001b[0m\u001b[37m\u001b[0m \u001b[1m103s\u001b[0m 1s/step - accuracy: 0.9976 - loss: 0.1812 - val_accuracy: 0.8681 - val_loss: 0.7767 - learning_rate: 0.0135\n",
      "Epoch 20/100\n",
      "\u001b[1m86/86\u001b[0m \u001b[32m━━━━━━━━━━━━━━━━━━━━\u001b[0m\u001b[37m\u001b[0m \u001b[1m99s\u001b[0m 1s/step - accuracy: 0.9930 - loss: 0.3209 - val_accuracy: 0.5938 - val_loss: 1.4965 - learning_rate: 0.0122\n",
      "Epoch 21/100\n",
      "\u001b[1m86/86\u001b[0m \u001b[32m━━━━━━━━━━━━━━━━━━━━\u001b[0m\u001b[37m\u001b[0m \u001b[1m98s\u001b[0m 1s/step - accuracy: 0.9906 - loss: 0.3887 - val_accuracy: 0.5000 - val_loss: 1.5304 - learning_rate: 0.0109\n",
      "Epoch 22/100\n",
      "\u001b[1m86/86\u001b[0m \u001b[32m━━━━━━━━━━━━━━━━━━━━\u001b[0m\u001b[37m\u001b[0m \u001b[1m98s\u001b[0m 1s/step - accuracy: 0.9940 - loss: 0.2229 - val_accuracy: 0.5000 - val_loss: 2.4415 - learning_rate: 0.0098\n",
      "Epoch 23/100\n",
      "\u001b[1m86/86\u001b[0m \u001b[32m━━━━━━━━━━━━━━━━━━━━\u001b[0m\u001b[37m\u001b[0m \u001b[1m101s\u001b[0m 1s/step - accuracy: 0.9997 - loss: 0.1224 - val_accuracy: 0.5000 - val_loss: 2.1996 - learning_rate: 0.0089\n",
      "Epoch 24/100\n",
      "\u001b[1m86/86\u001b[0m \u001b[32m━━━━━━━━━━━━━━━━━━━━\u001b[0m\u001b[37m\u001b[0m \u001b[1m90s\u001b[0m 1s/step - accuracy: 0.9974 - loss: 0.1873 - val_accuracy: 0.6285 - val_loss: 1.3553 - learning_rate: 0.0080\n",
      "Epoch 25/100\n",
      "\u001b[1m86/86\u001b[0m \u001b[32m━━━━━━━━━━━━━━━━━━━━\u001b[0m\u001b[37m\u001b[0m \u001b[1m88s\u001b[0m 1s/step - accuracy: 0.9998 - loss: 0.0791 - val_accuracy: 0.5069 - val_loss: 5.2849 - learning_rate: 0.0072\n"
     ]
    }
   ],
   "source": [
    "run_id = datetime.now().strftime(\"%Y%m%d-%H%M%S\")\n",
    "\n",
    "log_dir = \"logs/fit/\" + run_id\n",
    "tensorboard_callback = tf.keras.callbacks.TensorBoard(log_dir=log_dir, histogram_freq=1)\n",
    "early_stopping_callback = tf.keras.callbacks.EarlyStopping(\n",
    "    monitor=\"val_loss\", patience=6, restore_best_weights=True\n",
    ")\n",
    "lr_scheduler_callback = tf.keras.callbacks.LearningRateScheduler(scheduler)\n",
    "\n",
    "\n",
    "history = classifier.fit(\n",
    "    train_data_generator,\n",
    "    epochs=100,\n",
    "    validation_data=val_data_generator,\n",
    "    callbacks=[tensorboard_callback, early_stopping_callback, lr_scheduler_callback],\n",
    ")"
   ]
  },
  {
   "cell_type": "code",
   "execution_count": null,
   "metadata": {},
   "outputs": [],
   "source": [
    "model_save_path = \"saved_model/cnn_classifier\" + run_id\n",
    "classifier.export(model_save_path)\n",
    "print(f\"Model saved to {model_save_path}\")"
   ]
  },
  {
   "cell_type": "code",
   "execution_count": 80,
   "metadata": {},
   "outputs": [
    {
     "name": "stderr",
     "output_type": "stream",
     "text": [
      "WARNING:absl:You are saving your model as an HDF5 file via `model.save()` or `keras.saving.save_model(model)`. This file format is considered legacy. We recommend using instead the native Keras format, e.g. `model.save('my_model.keras')` or `keras.saving.save_model(model, 'my_model.keras')`. \n"
     ]
    }
   ],
   "source": [
    "classifier.save(model_save_path + \".h5\")"
   ]
  },
  {
   "cell_type": "markdown",
   "metadata": {},
   "source": [
    "## Inference"
   ]
  },
  {
   "cell_type": "code",
   "execution_count": 81,
   "metadata": {},
   "outputs": [
    {
     "name": "stderr",
     "output_type": "stream",
     "text": [
      "WARNING:absl:Compiled the loaded model, but the compiled metrics have yet to be built. `model.compile_metrics` will be empty until you train or evaluate the model.\n"
     ]
    }
   ],
   "source": [
    "# Uncomment below at to load model for inference\n",
    "classifier = tf.keras.models.load_model(\"saved_model/cnn_classifier20250216-192414.h5\")"
   ]
  },
  {
   "cell_type": "code",
   "execution_count": 82,
   "metadata": {},
   "outputs": [],
   "source": [
    "target_size = (224,224)\n",
    "\n",
    "def preprocess_image(image_path):\n",
    "    # Load Image\n",
    "    image = cv2.imread(image_path)\n",
    "    if image is None:\n",
    "        raise ValueError(\"Image not found!\")\n",
    "\n",
    "    # Convert to Grayscale\n",
    "    gray = cv2.cvtColor(image, cv2.COLOR_BGR2GRAY)\n",
    "\n",
    "    # Crop the bottom 8-10% (Focus on ticker region)\n",
    "    h, w = gray.shape\n",
    "    ticker_roi = gray[int(h * 0.92) :, :]\n",
    "    \n",
    "    # Save ROI image\n",
    "    save_filename = f\"{os.path.splitext(os.path.basename(image_path))[0]}_orig.png\"\n",
    "    save_filepath = os.path.join(save_path, save_filename)\n",
    "    cv2.imwrite(save_filepath, ticker_roi)\n",
    "    \n",
    "    return save_filepath\n",
    "\n",
    "def load_and_resize_image(image_path):\n",
    "    image = cv2.imread(image_path)\n",
    "    image = cv2.cvtColor(image, cv2.COLOR_BGR2RGB)\n",
    "    old_h, old_w, _ = image.shape\n",
    "    scale = min(target_size[0] / old_h, target_size[1] / old_w)\n",
    "    new_h, new_w = int(old_h * scale), int(old_w * scale)\n",
    "    resized = cv2.resize(image, (new_w, new_h))\n",
    "    padded = np.full(\n",
    "        (target_size[0], target_size[1], 3), 255, dtype=np.uint8\n",
    "    )\n",
    "    pad_h, pad_w = (target_size[0] - new_h) // 2, (\n",
    "        target_size[1] - new_w\n",
    "    ) // 2\n",
    "    padded[pad_h : pad_h + new_h, pad_w : pad_w + new_w] = resized\n",
    "    # print(padded.shape)\n",
    "    return np.array(padded / 255.0)\n"
   ]
  },
  {
   "cell_type": "code",
   "execution_count": 83,
   "metadata": {},
   "outputs": [
    {
     "name": "stdout",
     "output_type": "stream",
     "text": [
      "\u001b[1m4/4\u001b[0m \u001b[32m━━━━━━━━━━━━━━━━━━━━\u001b[0m\u001b[37m\u001b[0m \u001b[1m0s\u001b[0m 94ms/step\n"
     ]
    }
   ],
   "source": [
    "true_labels = []\n",
    "input_images = []\n",
    "for obj in test_data:\n",
    "    image_path = obj['path']\n",
    "    label = class2lable_map.get(obj['label'])\n",
    "    true_labels.append(label)\n",
    "    \n",
    "    roi_path = preprocess_image(image_path)\n",
    "    input_img = load_and_resize_image(roi_path)\n",
    "    input_images.append(input_img)\n",
    "\n",
    "prediction = classifier.predict(np.array(input_images))\n",
    "pred_labels = np.where(prediction.flatten() > 0.5, 1, 0) # TODO: Perform thresholding to tune this value"
   ]
  },
  {
   "cell_type": "code",
   "execution_count": 84,
   "metadata": {},
   "outputs": [
    {
     "name": "stdout",
     "output_type": "stream",
     "text": [
      "[[26  0]\n",
      " [ 0 75]]\n",
      "              precision    recall  f1-score   support\n",
      "\n",
      "           0       1.00      1.00      1.00        26\n",
      "           1       1.00      1.00      1.00        75\n",
      "\n",
      "    accuracy                           1.00       101\n",
      "   macro avg       1.00      1.00      1.00       101\n",
      "weighted avg       1.00      1.00      1.00       101\n",
      "\n"
     ]
    }
   ],
   "source": [
    "print(confusion_matrix(y_true=true_labels, y_pred=pred_labels))\n",
    "print(classification_report(y_true=true_labels, y_pred=pred_labels))"
   ]
  },
  {
   "cell_type": "code",
   "execution_count": 85,
   "metadata": {},
   "outputs": [
    {
     "data": {
      "image/png": "[encoded data removed]",
      "text/plain": [
       "<Figure size 640x480 with 2 Axes>"
      ]
     },
     "metadata": {},
     "output_type": "display_data"
    }
   ],
   "source": [
    "disp = ConfusionMatrixDisplay(confusion_matrix=confusion_matrix(y_true=true_labels, y_pred=pred_labels),\n",
    "                              display_labels=[0, 1])\n",
    "disp.plot()\n",
    "plt.show()"
   ]
  },
  {
   "cell_type": "code",
   "execution_count": null,
   "metadata": {},
   "outputs": [],
   "source": []
  }
 ],
 "metadata": {
  "kernelspec": {
   "display_name": "process_img_env",
   "language": "python",
   "name": "python3"
  },
  "language_info": {
   "codemirror_mode": {
    "name": "ipython",
    "version": 3
   },
   "file_extension": ".py",
   "mimetype": "text/x-python",
   "name": "python",
   "nbconvert_exporter": "python",
   "pygments_lexer": "ipython3",
   "version": "3.12.5"
  }
 },
 "nbformat": 4,
 "nbformat_minor": 2
}
